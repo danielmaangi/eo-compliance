{
 "cells": [
  {
   "cell_type": "markdown",
   "id": "5dd6decdcb165d6b",
   "metadata": {},
   "source": [
    "## Import required modules"
   ]
  },
  {
   "cell_type": "code",
   "execution_count": 2,
   "id": "1f229cb3bfd93b16",
   "metadata": {
    "ExecuteTime": {
     "end_time": "2025-02-13T14:38:32.142431Z",
     "start_time": "2025-02-13T14:38:32.127247Z"
    }
   },
   "outputs": [],
   "source": [
    "# Bash: pip install --upgrade python-docx"
   ]
  },
  {
   "cell_type": "code",
   "execution_count": 4,
   "id": "initial_id",
   "metadata": {
    "ExecuteTime": {
     "end_time": "2025-02-13T14:38:38.617239Z",
     "start_time": "2025-02-13T14:38:34.082545Z"
    },
    "collapsed": true
   },
   "outputs": [],
   "source": [
    "import os \n",
    "import pandas as pd\n",
    "from PyPDF2 import PdfReader\n",
    "import openpyxl\n",
    "import re\n",
    "from docx import Document"
   ]
  },
  {
   "cell_type": "code",
   "execution_count": 6,
   "id": "c80197e7",
   "metadata": {},
   "outputs": [
    {
     "name": "stdout",
     "output_type": "stream",
     "text": [
      "Now load all your files to the docs folder...\n"
     ]
    }
   ],
   "source": [
    "# Create 'docs' directory if it doesn't exist\n",
    "os.makedirs('docs', exist_ok=True)\n",
    "\n",
    "print(\"Now load all your files to the docs folder...\")"
   ]
  },
  {
   "cell_type": "code",
   "execution_count": 7,
   "id": "874150981eceba2e",
   "metadata": {
    "ExecuteTime": {
     "end_time": "2025-02-13T14:38:40.771011Z",
     "start_time": "2025-02-13T14:38:40.724539Z"
    }
   },
   "outputs": [],
   "source": [
    "def extract_sentences(file_path):\n",
    "    \"\"\"Extract sentences with proper resource cleanup\"\"\"\n",
    "    content_blocks = []\n",
    "    \n",
    "    try:\n",
    "        if file_path.lower().endswith('.xlsx'):\n",
    "            # Use pandas ExcelFile for better resource management\n",
    "            with pd.ExcelFile(file_path, engine='openpyxl') as xls:\n",
    "                for sheet_name in xls.sheet_names:\n",
    "                    df = xls.parse(sheet_name)\n",
    "                    for row_idx, row in df.iterrows():\n",
    "                        for col_idx, value in enumerate(row):\n",
    "                            cell_text = str(value)\n",
    "                            sentences = re.split(r'(?<=[.!?])\\s+', cell_text)\n",
    "                            for sentence in sentences:\n",
    "                                if sentence := sentence.strip():\n",
    "                                    content_blocks.append({\n",
    "                                        'source_type': 'worksheet',\n",
    "                                        'source_name': sheet_name,\n",
    "                                        'content': sentence,\n",
    "                                        'location': f\"Row {row_idx+1}, Col {df.columns[col_idx]}\"\n",
    "                                    })\n",
    "        elif file_path.lower().endswith('.pdf'):\n",
    "            # PDF handling with guaranteed closure\n",
    "            with open(file_path, 'rb') as f:\n",
    "                pdf = PdfReader(f)\n",
    "                for page_num, page in enumerate(pdf.pages, 1):\n",
    "                    page_text = page.extract_text()\n",
    "                    if page_text:\n",
    "                        sentences = re.split(r'(?<=[.!?])\\s+', page_text)\n",
    "                        for sentence in sentences:\n",
    "                            if sentence := sentence.strip():\n",
    "                                content_blocks.append({\n",
    "                                    'source_type': 'page',\n",
    "                                    'source_name': f\"Page {page_num}\",\n",
    "                                    'content': sentence,\n",
    "                                    'location': None\n",
    "                                })\n",
    "        elif file_path.lower().endswith('.docx'):\n",
    "            # Word document handling\n",
    "            doc = Document(file_path)\n",
    "            for para_num, paragraph in enumerate(doc.paragraphs, 1):\n",
    "                paragraph_text = paragraph.text\n",
    "                if paragraph_text:\n",
    "                    sentences = re.split(r'(?<=[.!?])\\s+', paragraph_text)\n",
    "                    for sentence in sentences:\n",
    "                        if sentence := sentence.strip():\n",
    "                            content_blocks.append({\n",
    "                                'source_type': 'paragraph',\n",
    "                                'source_name': f\"Paragraph {para_num}\",\n",
    "                                'content': sentence,\n",
    "                                'location': None\n",
    "                            })\n",
    "    \n",
    "    except Exception as e:\n",
    "        print(f\"Error processing {file_path}: {str(e)}\")\n",
    "    \n",
    "    return content_blocks"
   ]
  },
  {
   "cell_type": "code",
   "execution_count": 8,
   "id": "de61aa06d49198f2",
   "metadata": {
    "ExecuteTime": {
     "end_time": "2025-02-13T14:38:48.174988Z",
     "start_time": "2025-02-13T14:38:48.143708Z"
    }
   },
   "outputs": [],
   "source": [
    "def find_keyword_matches(content_blocks, keywords):\n",
    "    \"\"\"Find exact keyword-containing sentences\"\"\"\n",
    "    matches = []\n",
    "    \n",
    "    for block in content_blocks:\n",
    "        lower_content = block['content'].lower()\n",
    "        found_keywords = [kw for kw in keywords if kw.lower() in lower_content]\n",
    "        \n",
    "        if found_keywords:\n",
    "            for keyword in found_keywords:\n",
    "                matches.append({\n",
    "                    'File Path': block.get('file_path', ''),\n",
    "                    'Source Type': block['source_type'],\n",
    "                    'Source Name': block['source_name'],\n",
    "                    'Location': block['location'],\n",
    "                    'Keyword': keyword,\n",
    "                    'Exact Sentence': block['content']\n",
    "                })\n",
    "    \n",
    "    return matches"
   ]
  },
  {
   "cell_type": "code",
   "execution_count": 9,
   "id": "cf96135883e6e175",
   "metadata": {
    "ExecuteTime": {
     "end_time": "2025-02-13T14:38:50.588973Z",
     "start_time": "2025-02-13T14:38:50.557770Z"
    }
   },
   "outputs": [],
   "source": [
    "def generate_report(folder_path, keywords):\n",
    "    \"\"\"Generate report with guaranteed file closure\"\"\"\n",
    "    report = []\n",
    "    \n",
    "    for root, _, files in os.walk(folder_path):\n",
    "        for file in files:\n",
    "            if file.lower().endswith(('.xlsx', '.pdf')):\n",
    "                file_path = os.path.join(root, file)\n",
    "                content_blocks = extract_sentences(file_path)\n",
    "                for block in content_blocks:\n",
    "                    block['file_path'] = file_path\n",
    "                matches = find_keyword_matches(content_blocks, keywords)\n",
    "                report.extend(matches)\n",
    "    \n",
    "    return pd.DataFrame(report)"
   ]
  },
  {
   "cell_type": "code",
   "execution_count": 10,
   "id": "50b052e7499a832c",
   "metadata": {
    "ExecuteTime": {
     "end_time": "2025-02-13T14:38:55.493953Z",
     "start_time": "2025-02-13T14:38:52.822399Z"
    }
   },
   "outputs": [
    {
     "data": {
      "text/html": [
       "<div>\n",
       "<style scoped>\n",
       "    .dataframe tbody tr th:only-of-type {\n",
       "        vertical-align: middle;\n",
       "    }\n",
       "\n",
       "    .dataframe tbody tr th {\n",
       "        vertical-align: top;\n",
       "    }\n",
       "\n",
       "    .dataframe thead th {\n",
       "        text-align: right;\n",
       "    }\n",
       "</style>\n",
       "<table border=\"1\" class=\"dataframe\">\n",
       "  <thead>\n",
       "    <tr style=\"text-align: right;\">\n",
       "      <th></th>\n",
       "      <th>File Path</th>\n",
       "      <th>Source Type</th>\n",
       "      <th>Source Name</th>\n",
       "      <th>Location</th>\n",
       "      <th>Keyword</th>\n",
       "      <th>Exact Sentence</th>\n",
       "    </tr>\n",
       "  </thead>\n",
       "  <tbody>\n",
       "    <tr>\n",
       "      <th>0</th>\n",
       "      <td>docs\\Palladium\\1. PK_Year5_CA_Workplan.xlsx</td>\n",
       "      <td>worksheet</td>\n",
       "      <td>Yr 5 Full Workplan</td>\n",
       "      <td>Row 2, Col Unnamed: 1</td>\n",
       "      <td>Inclusion</td>\n",
       "      <td>Inclusion Justificaton</td>\n",
       "    </tr>\n",
       "    <tr>\n",
       "      <th>1</th>\n",
       "      <td>docs\\Palladium\\1. PK_Year5_CA_Workplan.xlsx</td>\n",
       "      <td>worksheet</td>\n",
       "      <td>Yr 5 Full Workplan</td>\n",
       "      <td>Row 15, Col Unnamed: 1</td>\n",
       "      <td>Inclusion</td>\n",
       "      <td>Overview: The inclusion of routine maintenance...</td>\n",
       "    </tr>\n",
       "    <tr>\n",
       "      <th>2</th>\n",
       "      <td>docs\\Palladium\\1. PK_Year5_CA_Workplan.xlsx</td>\n",
       "      <td>worksheet</td>\n",
       "      <td>COMPONENT 1-3</td>\n",
       "      <td>Row 2, Col Unnamed: 1</td>\n",
       "      <td>Inclusion</td>\n",
       "      <td>Inclusion Justificaton</td>\n",
       "    </tr>\n",
       "    <tr>\n",
       "      <th>3</th>\n",
       "      <td>docs\\Palladium\\1. PK_Year5_CA_Workplan.xlsx</td>\n",
       "      <td>worksheet</td>\n",
       "      <td>COMPONENT 1-3</td>\n",
       "      <td>Row 11, Col Unnamed: 1</td>\n",
       "      <td>Inclusion</td>\n",
       "      <td>Overview: The inclusion of routine maintenance...</td>\n",
       "    </tr>\n",
       "    <tr>\n",
       "      <th>4</th>\n",
       "      <td>docs\\Palladium\\1. PK_Year5_CA_Workplan.xlsx</td>\n",
       "      <td>worksheet</td>\n",
       "      <td>Yr 5 - Component 1 Updated</td>\n",
       "      <td>Row 2, Col Unnamed: 1</td>\n",
       "      <td>Inclusion</td>\n",
       "      <td>Inclusion Justificaton</td>\n",
       "    </tr>\n",
       "    <tr>\n",
       "      <th>5</th>\n",
       "      <td>docs\\Palladium\\1. PK_Year5_CA_Workplan.xlsx</td>\n",
       "      <td>worksheet</td>\n",
       "      <td>Yr 5 - Component 1 Updated</td>\n",
       "      <td>Row 10, Col Unnamed: 1</td>\n",
       "      <td>Inclusion</td>\n",
       "      <td>Overview: The inclusion of routine maintenance...</td>\n",
       "    </tr>\n",
       "    <tr>\n",
       "      <th>6</th>\n",
       "      <td>docs\\Palladium\\1. PK_Year5_CA_Workplan.xlsx</td>\n",
       "      <td>worksheet</td>\n",
       "      <td>Activities</td>\n",
       "      <td>Row 2, Col Unnamed: 2</td>\n",
       "      <td>Inclusion</td>\n",
       "      <td>Inclusion Justificaton</td>\n",
       "    </tr>\n",
       "    <tr>\n",
       "      <th>7</th>\n",
       "      <td>docs\\Palladium\\1. PK_Year5_CA_Workplan.xlsx</td>\n",
       "      <td>worksheet</td>\n",
       "      <td>Activities</td>\n",
       "      <td>Row 15, Col Unnamed: 2</td>\n",
       "      <td>Inclusion</td>\n",
       "      <td>Overview: The inclusion of routine maintenance...</td>\n",
       "    </tr>\n",
       "    <tr>\n",
       "      <th>8</th>\n",
       "      <td>docs\\Palladium\\1. PK_Year5_CA_Workplan.xlsx</td>\n",
       "      <td>worksheet</td>\n",
       "      <td>Yr 5 - Component 4 Q1</td>\n",
       "      <td>Row 2, Col Unnamed: 2</td>\n",
       "      <td>Inclusion</td>\n",
       "      <td>Inclusion Justificaton</td>\n",
       "    </tr>\n",
       "    <tr>\n",
       "      <th>9</th>\n",
       "      <td>docs\\Palladium\\1. PK_Year5_CA_Workplan.xlsx</td>\n",
       "      <td>worksheet</td>\n",
       "      <td>COMPONENT 4</td>\n",
       "      <td>Row 2, Col Unnamed: 1</td>\n",
       "      <td>Inclusion</td>\n",
       "      <td>Inclusion Justificaton</td>\n",
       "    </tr>\n",
       "    <tr>\n",
       "      <th>10</th>\n",
       "      <td>docs\\Palladium\\1. PK_Year5_CA_Workplan.xlsx</td>\n",
       "      <td>worksheet</td>\n",
       "      <td>COMPONENT 1-3,5,6</td>\n",
       "      <td>Row 2, Col Unnamed: 1</td>\n",
       "      <td>Inclusion</td>\n",
       "      <td>Inclusion Justificaton</td>\n",
       "    </tr>\n",
       "    <tr>\n",
       "      <th>11</th>\n",
       "      <td>docs\\Palladium\\1. PK_Year5_CA_Workplan.xlsx</td>\n",
       "      <td>worksheet</td>\n",
       "      <td>COMPONENT 1-3,5,6</td>\n",
       "      <td>Row 11, Col Unnamed: 1</td>\n",
       "      <td>Inclusion</td>\n",
       "      <td>Overview: The inclusion of routine maintenance...</td>\n",
       "    </tr>\n",
       "  </tbody>\n",
       "</table>\n",
       "</div>"
      ],
      "text/plain": [
       "                                      File Path Source Type  \\\n",
       "0   docs\\Palladium\\1. PK_Year5_CA_Workplan.xlsx   worksheet   \n",
       "1   docs\\Palladium\\1. PK_Year5_CA_Workplan.xlsx   worksheet   \n",
       "2   docs\\Palladium\\1. PK_Year5_CA_Workplan.xlsx   worksheet   \n",
       "3   docs\\Palladium\\1. PK_Year5_CA_Workplan.xlsx   worksheet   \n",
       "4   docs\\Palladium\\1. PK_Year5_CA_Workplan.xlsx   worksheet   \n",
       "5   docs\\Palladium\\1. PK_Year5_CA_Workplan.xlsx   worksheet   \n",
       "6   docs\\Palladium\\1. PK_Year5_CA_Workplan.xlsx   worksheet   \n",
       "7   docs\\Palladium\\1. PK_Year5_CA_Workplan.xlsx   worksheet   \n",
       "8   docs\\Palladium\\1. PK_Year5_CA_Workplan.xlsx   worksheet   \n",
       "9   docs\\Palladium\\1. PK_Year5_CA_Workplan.xlsx   worksheet   \n",
       "10  docs\\Palladium\\1. PK_Year5_CA_Workplan.xlsx   worksheet   \n",
       "11  docs\\Palladium\\1. PK_Year5_CA_Workplan.xlsx   worksheet   \n",
       "\n",
       "                   Source Name                Location    Keyword  \\\n",
       "0           Yr 5 Full Workplan   Row 2, Col Unnamed: 1  Inclusion   \n",
       "1           Yr 5 Full Workplan  Row 15, Col Unnamed: 1  Inclusion   \n",
       "2                COMPONENT 1-3   Row 2, Col Unnamed: 1  Inclusion   \n",
       "3                COMPONENT 1-3  Row 11, Col Unnamed: 1  Inclusion   \n",
       "4   Yr 5 - Component 1 Updated   Row 2, Col Unnamed: 1  Inclusion   \n",
       "5   Yr 5 - Component 1 Updated  Row 10, Col Unnamed: 1  Inclusion   \n",
       "6                   Activities   Row 2, Col Unnamed: 2  Inclusion   \n",
       "7                   Activities  Row 15, Col Unnamed: 2  Inclusion   \n",
       "8        Yr 5 - Component 4 Q1   Row 2, Col Unnamed: 2  Inclusion   \n",
       "9                  COMPONENT 4   Row 2, Col Unnamed: 1  Inclusion   \n",
       "10           COMPONENT 1-3,5,6   Row 2, Col Unnamed: 1  Inclusion   \n",
       "11           COMPONENT 1-3,5,6  Row 11, Col Unnamed: 1  Inclusion   \n",
       "\n",
       "                                       Exact Sentence  \n",
       "0                              Inclusion Justificaton  \n",
       "1   Overview: The inclusion of routine maintenance...  \n",
       "2                              Inclusion Justificaton  \n",
       "3   Overview: The inclusion of routine maintenance...  \n",
       "4                              Inclusion Justificaton  \n",
       "5   Overview: The inclusion of routine maintenance...  \n",
       "6                              Inclusion Justificaton  \n",
       "7   Overview: The inclusion of routine maintenance...  \n",
       "8                              Inclusion Justificaton  \n",
       "9                              Inclusion Justificaton  \n",
       "10                             Inclusion Justificaton  \n",
       "11  Overview: The inclusion of routine maintenance...  "
      ]
     },
     "execution_count": 10,
     "metadata": {},
     "output_type": "execute_result"
    }
   ],
   "source": [
    "# Configuration\n",
    "folder_path = 'docs' # Update this path\n",
    "keywords = ['Gender', 'DEI', 'Diversity', 'Inclusion']  # Add more keywords as needed\n",
    "# Generate and save report\n",
    "df = generate_report(folder_path, keywords)\n",
    "df"
   ]
  },
  {
   "cell_type": "code",
   "execution_count": 11,
   "id": "8fb02cb0a945b46e",
   "metadata": {
    "ExecuteTime": {
     "end_time": "2025-02-13T14:39:01.265451Z",
     "start_time": "2025-02-13T14:39:01.240022Z"
    }
   },
   "outputs": [],
   "source": [
    "df.to_csv(f\"{folder_path}_keyword_summary.csv\", index=False)"
   ]
  },
  {
   "cell_type": "code",
   "execution_count": 12,
   "id": "a71a68d75655f5f0",
   "metadata": {
    "ExecuteTime": {
     "end_time": "2025-02-13T14:39:04.510868Z",
     "start_time": "2025-02-13T14:39:04.479613Z"
    }
   },
   "outputs": [
    {
     "name": "stdout",
     "output_type": "stream",
     "text": [
      "Index(['File Path', 'Source Type', 'Source Name', 'Location', 'Keyword',\n",
      "       'Exact Sentence'],\n",
      "      dtype='object')\n"
     ]
    }
   ],
   "source": [
    "print(df.columns)"
   ]
  },
  {
   "cell_type": "code",
   "execution_count": 13,
   "id": "6a2d7dfbd33ee2a1",
   "metadata": {
    "ExecuteTime": {
     "end_time": "2025-02-13T14:39:07.334605Z",
     "start_time": "2025-02-13T14:39:07.316253Z"
    }
   },
   "outputs": [
    {
     "data": {
      "text/html": [
       "<div>\n",
       "<style scoped>\n",
       "    .dataframe tbody tr th:only-of-type {\n",
       "        vertical-align: middle;\n",
       "    }\n",
       "\n",
       "    .dataframe tbody tr th {\n",
       "        vertical-align: top;\n",
       "    }\n",
       "\n",
       "    .dataframe thead th {\n",
       "        text-align: right;\n",
       "    }\n",
       "</style>\n",
       "<table border=\"1\" class=\"dataframe\">\n",
       "  <thead>\n",
       "    <tr style=\"text-align: right;\">\n",
       "      <th></th>\n",
       "      <th>Path</th>\n",
       "      <th>Source Type</th>\n",
       "      <th>Source Name</th>\n",
       "      <th>Location</th>\n",
       "      <th>Keyword</th>\n",
       "      <th>Content</th>\n",
       "    </tr>\n",
       "  </thead>\n",
       "  <tbody>\n",
       "    <tr>\n",
       "      <th>0</th>\n",
       "      <td>docs\\Palladium\\1. PK_Year5_CA_Workplan.xlsx</td>\n",
       "      <td>worksheet</td>\n",
       "      <td>Yr 5 Full Workplan</td>\n",
       "      <td>Row 2, Col Unnamed: 1</td>\n",
       "      <td>Inclusion</td>\n",
       "      <td>Inclusion Justificaton</td>\n",
       "    </tr>\n",
       "    <tr>\n",
       "      <th>1</th>\n",
       "      <td>docs\\Palladium\\1. PK_Year5_CA_Workplan.xlsx</td>\n",
       "      <td>worksheet</td>\n",
       "      <td>Yr 5 Full Workplan</td>\n",
       "      <td>Row 15, Col Unnamed: 1</td>\n",
       "      <td>Inclusion</td>\n",
       "      <td>Overview: The inclusion of routine maintenance...</td>\n",
       "    </tr>\n",
       "    <tr>\n",
       "      <th>2</th>\n",
       "      <td>docs\\Palladium\\1. PK_Year5_CA_Workplan.xlsx</td>\n",
       "      <td>worksheet</td>\n",
       "      <td>COMPONENT 1-3</td>\n",
       "      <td>Row 2, Col Unnamed: 1</td>\n",
       "      <td>Inclusion</td>\n",
       "      <td>Inclusion Justificaton</td>\n",
       "    </tr>\n",
       "    <tr>\n",
       "      <th>3</th>\n",
       "      <td>docs\\Palladium\\1. PK_Year5_CA_Workplan.xlsx</td>\n",
       "      <td>worksheet</td>\n",
       "      <td>COMPONENT 1-3</td>\n",
       "      <td>Row 11, Col Unnamed: 1</td>\n",
       "      <td>Inclusion</td>\n",
       "      <td>Overview: The inclusion of routine maintenance...</td>\n",
       "    </tr>\n",
       "    <tr>\n",
       "      <th>4</th>\n",
       "      <td>docs\\Palladium\\1. PK_Year5_CA_Workplan.xlsx</td>\n",
       "      <td>worksheet</td>\n",
       "      <td>Yr 5 - Component 1 Updated</td>\n",
       "      <td>Row 2, Col Unnamed: 1</td>\n",
       "      <td>Inclusion</td>\n",
       "      <td>Inclusion Justificaton</td>\n",
       "    </tr>\n",
       "  </tbody>\n",
       "</table>\n",
       "</div>"
      ],
      "text/plain": [
       "                                          Path Source Type  \\\n",
       "0  docs\\Palladium\\1. PK_Year5_CA_Workplan.xlsx   worksheet   \n",
       "1  docs\\Palladium\\1. PK_Year5_CA_Workplan.xlsx   worksheet   \n",
       "2  docs\\Palladium\\1. PK_Year5_CA_Workplan.xlsx   worksheet   \n",
       "3  docs\\Palladium\\1. PK_Year5_CA_Workplan.xlsx   worksheet   \n",
       "4  docs\\Palladium\\1. PK_Year5_CA_Workplan.xlsx   worksheet   \n",
       "\n",
       "                  Source Name                Location    Keyword  \\\n",
       "0          Yr 5 Full Workplan   Row 2, Col Unnamed: 1  Inclusion   \n",
       "1          Yr 5 Full Workplan  Row 15, Col Unnamed: 1  Inclusion   \n",
       "2               COMPONENT 1-3   Row 2, Col Unnamed: 1  Inclusion   \n",
       "3               COMPONENT 1-3  Row 11, Col Unnamed: 1  Inclusion   \n",
       "4  Yr 5 - Component 1 Updated   Row 2, Col Unnamed: 1  Inclusion   \n",
       "\n",
       "                                             Content  \n",
       "0                             Inclusion Justificaton  \n",
       "1  Overview: The inclusion of routine maintenance...  \n",
       "2                             Inclusion Justificaton  \n",
       "3  Overview: The inclusion of routine maintenance...  \n",
       "4                             Inclusion Justificaton  "
      ]
     },
     "execution_count": 13,
     "metadata": {},
     "output_type": "execute_result"
    }
   ],
   "source": [
    "df.rename(columns={'File Path': 'Path', \n",
    "                   'Exact Sentence': 'Content'}, inplace=True\n",
    "          )\n",
    "df.head()"
   ]
  },
  {
   "cell_type": "code",
   "execution_count": 14,
   "id": "764ff5bccecd6f2a",
   "metadata": {
    "ExecuteTime": {
     "end_time": "2025-02-13T14:39:09.063721Z",
     "start_time": "2025-02-13T14:39:09.041424Z"
    }
   },
   "outputs": [
    {
     "data": {
      "text/html": [
       "<div>\n",
       "<style scoped>\n",
       "    .dataframe tbody tr th:only-of-type {\n",
       "        vertical-align: middle;\n",
       "    }\n",
       "\n",
       "    .dataframe tbody tr th {\n",
       "        vertical-align: top;\n",
       "    }\n",
       "\n",
       "    .dataframe thead th {\n",
       "        text-align: right;\n",
       "    }\n",
       "</style>\n",
       "<table border=\"1\" class=\"dataframe\">\n",
       "  <thead>\n",
       "    <tr style=\"text-align: right;\">\n",
       "      <th></th>\n",
       "      <th>Partner</th>\n",
       "      <th>Keyword</th>\n",
       "      <th>Content</th>\n",
       "    </tr>\n",
       "  </thead>\n",
       "  <tbody>\n",
       "    <tr>\n",
       "      <th>0</th>\n",
       "      <td>Palladium\\1. PK_Year5_CA_Workplan</td>\n",
       "      <td>Inclusion</td>\n",
       "      <td>Inclusion Justificaton</td>\n",
       "    </tr>\n",
       "    <tr>\n",
       "      <th>1</th>\n",
       "      <td>Palladium\\1. PK_Year5_CA_Workplan</td>\n",
       "      <td>Inclusion</td>\n",
       "      <td>Overview: The inclusion of routine maintenance...</td>\n",
       "    </tr>\n",
       "    <tr>\n",
       "      <th>2</th>\n",
       "      <td>Palladium\\1. PK_Year5_CA_Workplan</td>\n",
       "      <td>Inclusion</td>\n",
       "      <td>Inclusion Justificaton</td>\n",
       "    </tr>\n",
       "    <tr>\n",
       "      <th>3</th>\n",
       "      <td>Palladium\\1. PK_Year5_CA_Workplan</td>\n",
       "      <td>Inclusion</td>\n",
       "      <td>Overview: The inclusion of routine maintenance...</td>\n",
       "    </tr>\n",
       "    <tr>\n",
       "      <th>4</th>\n",
       "      <td>Palladium\\1. PK_Year5_CA_Workplan</td>\n",
       "      <td>Inclusion</td>\n",
       "      <td>Inclusion Justificaton</td>\n",
       "    </tr>\n",
       "    <tr>\n",
       "      <th>5</th>\n",
       "      <td>Palladium\\1. PK_Year5_CA_Workplan</td>\n",
       "      <td>Inclusion</td>\n",
       "      <td>Overview: The inclusion of routine maintenance...</td>\n",
       "    </tr>\n",
       "    <tr>\n",
       "      <th>6</th>\n",
       "      <td>Palladium\\1. PK_Year5_CA_Workplan</td>\n",
       "      <td>Inclusion</td>\n",
       "      <td>Inclusion Justificaton</td>\n",
       "    </tr>\n",
       "    <tr>\n",
       "      <th>7</th>\n",
       "      <td>Palladium\\1. PK_Year5_CA_Workplan</td>\n",
       "      <td>Inclusion</td>\n",
       "      <td>Overview: The inclusion of routine maintenance...</td>\n",
       "    </tr>\n",
       "    <tr>\n",
       "      <th>8</th>\n",
       "      <td>Palladium\\1. PK_Year5_CA_Workplan</td>\n",
       "      <td>Inclusion</td>\n",
       "      <td>Inclusion Justificaton</td>\n",
       "    </tr>\n",
       "    <tr>\n",
       "      <th>9</th>\n",
       "      <td>Palladium\\1. PK_Year5_CA_Workplan</td>\n",
       "      <td>Inclusion</td>\n",
       "      <td>Inclusion Justificaton</td>\n",
       "    </tr>\n",
       "    <tr>\n",
       "      <th>10</th>\n",
       "      <td>Palladium\\1. PK_Year5_CA_Workplan</td>\n",
       "      <td>Inclusion</td>\n",
       "      <td>Inclusion Justificaton</td>\n",
       "    </tr>\n",
       "    <tr>\n",
       "      <th>11</th>\n",
       "      <td>Palladium\\1. PK_Year5_CA_Workplan</td>\n",
       "      <td>Inclusion</td>\n",
       "      <td>Overview: The inclusion of routine maintenance...</td>\n",
       "    </tr>\n",
       "  </tbody>\n",
       "</table>\n",
       "</div>"
      ],
      "text/plain": [
       "                              Partner    Keyword  \\\n",
       "0   Palladium\\1. PK_Year5_CA_Workplan  Inclusion   \n",
       "1   Palladium\\1. PK_Year5_CA_Workplan  Inclusion   \n",
       "2   Palladium\\1. PK_Year5_CA_Workplan  Inclusion   \n",
       "3   Palladium\\1. PK_Year5_CA_Workplan  Inclusion   \n",
       "4   Palladium\\1. PK_Year5_CA_Workplan  Inclusion   \n",
       "5   Palladium\\1. PK_Year5_CA_Workplan  Inclusion   \n",
       "6   Palladium\\1. PK_Year5_CA_Workplan  Inclusion   \n",
       "7   Palladium\\1. PK_Year5_CA_Workplan  Inclusion   \n",
       "8   Palladium\\1. PK_Year5_CA_Workplan  Inclusion   \n",
       "9   Palladium\\1. PK_Year5_CA_Workplan  Inclusion   \n",
       "10  Palladium\\1. PK_Year5_CA_Workplan  Inclusion   \n",
       "11  Palladium\\1. PK_Year5_CA_Workplan  Inclusion   \n",
       "\n",
       "                                              Content  \n",
       "0                              Inclusion Justificaton  \n",
       "1   Overview: The inclusion of routine maintenance...  \n",
       "2                              Inclusion Justificaton  \n",
       "3   Overview: The inclusion of routine maintenance...  \n",
       "4                              Inclusion Justificaton  \n",
       "5   Overview: The inclusion of routine maintenance...  \n",
       "6                              Inclusion Justificaton  \n",
       "7   Overview: The inclusion of routine maintenance...  \n",
       "8                              Inclusion Justificaton  \n",
       "9                              Inclusion Justificaton  \n",
       "10                             Inclusion Justificaton  \n",
       "11  Overview: The inclusion of routine maintenance...  "
      ]
     },
     "execution_count": 14,
     "metadata": {},
     "output_type": "execute_result"
    }
   ],
   "source": [
    "df_copy = df.assign(\n",
    "    Partner = df['Path'].str.extract(r'\\\\(.*?)\\.(xlsx|pdf)')[0]\n",
    ")[['Partner', 'Keyword', 'Content']]\n",
    "\n",
    "df_copy"
   ]
  },
  {
   "cell_type": "code",
   "execution_count": 15,
   "id": "56d1cd44d33681f4",
   "metadata": {
    "ExecuteTime": {
     "end_time": "2025-02-13T14:39:10.296267Z",
     "start_time": "2025-02-13T14:39:10.280602Z"
    }
   },
   "outputs": [
    {
     "name": "stdout",
     "output_type": "stream",
     "text": [
      "✅ Validation passed: All extracted filenames are correct!\n"
     ]
    }
   ],
   "source": [
    "# Validation Tests (Win + .)\n",
    "assert df_copy['Partner'].isnull().sum() == 0, \"❌ Missing values found in 'Partner' column\"\n",
    "assert all(df_copy['Partner'].str.contains(r'[^\\\\/]+', regex=True)), \"🤣 'Partner' column contains invalid values\"\n",
    "\n",
    "print(\"✅ Validation passed: All extracted filenames are correct!\")"
   ]
  },
  {
   "cell_type": "code",
   "execution_count": 16,
   "id": "da01d86a1670ceda",
   "metadata": {
    "ExecuteTime": {
     "end_time": "2025-02-13T14:39:12.512812Z",
     "start_time": "2025-02-13T14:39:12.450402Z"
    }
   },
   "outputs": [],
   "source": [
    "# Save to excel\n",
    "df_copy.to_excel(f\"{folder_path} Keywords Check.xlsx\", \n",
    "                 index=True,\n",
    "                 index_label='No.')"
   ]
  }
 ],
 "metadata": {
  "kernelspec": {
   "display_name": "eo-compliance",
   "language": "python",
   "name": "python3"
  },
  "language_info": {
   "codemirror_mode": {
    "name": "ipython",
    "version": 3
   },
   "file_extension": ".py",
   "mimetype": "text/x-python",
   "name": "python",
   "nbconvert_exporter": "python",
   "pygments_lexer": "ipython3",
   "version": "3.11.11"
  }
 },
 "nbformat": 4,
 "nbformat_minor": 5
}
